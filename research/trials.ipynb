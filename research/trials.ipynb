{
 "cells": [
  {
   "cell_type": "code",
   "execution_count": 1,
   "id": "0f871408",
   "metadata": {},
   "outputs": [],
   "source": [
    "import gdown"
   ]
  },
  {
   "cell_type": "code",
   "execution_count": null,
   "id": "32e18aaa",
   "metadata": {},
   "outputs": [
    {
     "data": {
      "text/plain": [
       "'16N1Tcc7C4XJjzC1Se6yUfB4TYKKPItN8'"
      ]
     },
     "execution_count": 2,
     "metadata": {},
     "output_type": "execute_result"
    }
   ],
   "source": [
    "\n",
    "\n",
    "url =\"https://drive.google.com/file/d/16N1Tcc7C4XJjzC1Se6yUfB4TYKKPItN8/view?usp=drive_link\"\n",
    "file_id= url.split(\"/\")[-2]\n",
    "file_id"
   ]
  },
  {
   "cell_type": "code",
   "execution_count": 3,
   "id": "1d4dc457",
   "metadata": {},
   "outputs": [
    {
     "name": "stderr",
     "output_type": "stream",
     "text": [
      "Downloading...\n",
      "From (original): https://drive.google.com/uc?/export=download&id=16N1Tcc7C4XJjzC1Se6yUfB4TYKKPItN8\n",
      "From (redirected): https://drive.google.com/uc?%2Fexport=download&id=16N1Tcc7C4XJjzC1Se6yUfB4TYKKPItN8&confirm=t&uuid=dca62d34-7811-4f85-b3b8-8a7629c28e94\n",
      "To: c:\\Users\\HOUSTON ELECTRONIC\\Desktop\\Machine Learning Projects\\Kidney-Disease-Prediction-using-DVC-and-MLFlow\\research\\CT-KIDNEY-DATASET-Normal-Cyst-Tumor-Stone.zip\n",
      "100%|██████████| 941M/941M [07:32<00:00, 2.08MB/s] \n"
     ]
    },
    {
     "data": {
      "text/plain": [
       "'CT-KIDNEY-DATASET-Normal-Cyst-Tumor-Stone.zip'"
      ]
     },
     "execution_count": 3,
     "metadata": {},
     "output_type": "execute_result"
    }
   ],
   "source": [
    "prefix = \"https://drive.google.com/uc?/export=download&id=\"\n",
    "gdown.download(prefix + file_id, 'CT-KIDNEY-DATASET-Normal-Cyst-Tumor-Stone.zip')"
   ]
  },
  {
   "cell_type": "code",
   "execution_count": null,
   "id": "a89ccc49",
   "metadata": {},
   "outputs": [],
   "source": []
  }
 ],
 "metadata": {
  "kernelspec": {
   "display_name": "venv",
   "language": "python",
   "name": "python3"
  },
  "language_info": {
   "codemirror_mode": {
    "name": "ipython",
    "version": 3
   },
   "file_extension": ".py",
   "mimetype": "text/x-python",
   "name": "python",
   "nbconvert_exporter": "python",
   "pygments_lexer": "ipython3",
   "version": "3.10.6"
  }
 },
 "nbformat": 4,
 "nbformat_minor": 5
}
